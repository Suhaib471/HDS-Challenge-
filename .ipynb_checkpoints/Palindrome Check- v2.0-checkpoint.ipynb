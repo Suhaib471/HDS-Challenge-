{
 "cells": [
  {
   "cell_type": "code",
   "execution_count": null,
   "metadata": {},
   "outputs": [],
   "source": [
    "#13. Check if a string is a palindrome\n",
    "# some Palindrome examples: Civic, My Gym, Do Geese See God, Was It A Rat I Saw \n",
    "\n",
    "def PalindromeCheck(str): \n",
    "\n",
    "# Pick Input and convert to lower case     \n",
    "    str = str.lower()\n",
    "    \n",
    "# Remove spaces if any and save to new string\n",
    "    str_no_spaces = ''\n",
    "    for i in range(0,len(str)):\n",
    "        if str[i] != ' ':\n",
    "            str_no_spaces = str_no_spaces  + str[i]\n",
    "        else: \n",
    "            str_no_spaces = str_no_spaces\n",
    "            \n",
    "# Reverse order of letters \n",
    "    str_reversed = str_no_spaces[::-1]\n",
    "    \n",
    "# Check if reversed string matches input string and print result\n",
    "    if str_no_spaces == str_reversed:\n",
    "        print(\"This string is a palindrome. It reads the same if reversed: \" + str_reversed)\n",
    "    else:\n",
    "        print(\"This string is not a palindrome.\")\n",
    "\n",
    "# Driver Code  \n",
    "str = input(\"Input any string to check for palindrome? \")\n",
    "print(PalindromeCheck(str))"
   ]
  },
  {
   "cell_type": "code",
   "execution_count": null,
   "metadata": {},
   "outputs": [],
   "source": []
  },
  {
   "cell_type": "code",
   "execution_count": null,
   "metadata": {},
   "outputs": [],
   "source": []
  }
 ],
 "metadata": {
  "kernelspec": {
   "display_name": "Python 3",
   "language": "python",
   "name": "python3"
  },
  "language_info": {
   "codemirror_mode": {
    "name": "ipython",
    "version": 3
   },
   "file_extension": ".py",
   "mimetype": "text/x-python",
   "name": "python",
   "nbconvert_exporter": "python",
   "pygments_lexer": "ipython3",
   "version": "3.7.3"
  }
 },
 "nbformat": 4,
 "nbformat_minor": 2
}
